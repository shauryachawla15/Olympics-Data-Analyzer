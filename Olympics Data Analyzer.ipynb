{
  "metadata": {
    "kernelspec": {
      "name": "python",
      "display_name": "Python (Pyodide)",
      "language": "python"
    },
    "language_info": {
      "codemirror_mode": {
        "name": "python",
        "version": 3
      },
      "file_extension": ".py",
      "mimetype": "text/x-python",
      "name": "python",
      "nbconvert_exporter": "python",
      "pygments_lexer": "ipython3",
      "version": "3.8"
    }
  },
  "nbformat_minor": 5,
  "nbformat": 4,
  "cells": [
    {
      "id": "bd29cb4d-dd03-42a5-8f36-01eae40345c5",
      "cell_type": "code",
      "source": "# Olympics Data Analyzer (Pandas + NumPy + Matplotlib)\n# project by SHAURYA CHAWLA\n\n# Step 1: Import libraries\nimport pandas as pd\nimport numpy as np\nimport matplotlib.pyplot as plt\n\n# Step 2: Create a mock dataset (you can replace with a real CSV later)\ndata = {\n    'Year': [2008, 2008, 2008, 2012, 2012, 2016, 2016, 2016, 2020, 2020],\n    'Athlete': ['Usain Bolt','Michael Phelps','Yelena Isinbayeva',\n                'Mo Farah','Serena Williams','Simone Biles',\n                'Katie Ledecky','Usain Bolt','Neeraj Chopra','Caeleb Dressel'],\n    'Country': ['Jamaica','USA','Russia',\n                'UK','USA','USA',\n                'USA','Jamaica','India','USA'],\n    'Sport': ['Athletics','Swimming','Pole Vault',\n              'Athletics','Tennis','Gymnastics',\n              'Swimming','Athletics','Javelin','Swimming'],\n    'Medal': ['Gold','Gold','Gold',\n              'Gold','Gold','Gold',\n              'Gold','Gold','Gold','Gold']\n}\n\ndf = pd.DataFrame(data)\nprint(\"🏅 Sample Olympics Dataset:\\n\")\nprint(df)\n\n\n#  Medal tally by country\nprint(\"\\n🥇 Total Medals by Country:\\n\")\nprint(df['Country'].value_counts())\n\n# Plotting Medals by country\ndf['Country'].value_counts().plot(kind='bar', color='gold', title=\"Medal Tally by Country\")\nplt.ylabel(\"Number of Medals\")\nplt.xlabel(\"Country\")\nplt.show()\n\n\n# Top athletes (most medals)\nprint(\"\\n👑 Top Athletes by Medal Count:\\n\")\nprint(df['Athlete'].value_counts().head(5))\n\n\n# Average medals per Olympics\navg_medals = df.groupby('Year')['Medal'].count().mean()\nprint(\"\\n Average medals per Olympic Games:\", round(avg_medals,2))\n\n\n# Medals by Sport\nprint(\"\\n🏋️ Medals by Sport:\\n\")\nprint(df['Sport'].value_counts())\n\n# Plot: Medals by Sport\ndf['Sport'].value_counts().plot(kind='pie', autopct='%1.1f%%', figsize=(6,6), title=\"Medals by Sport\")\nplt.ylabel(\"\")\nplt.show()\n\n\n# Group by Country & Year (trend analysis)\nprint(\"\\n📈 Medals by Country and Year:\\n\")\nprint(df.groupby(['Country','Year'])['Medal'].count())\n\n# Pivot table for visualization\npivot = df.pivot_table(index='Year', columns='Country', values='Medal', aggfunc='count', fill_value=0)\n\n# Line chart: Medal trend\npivot.plot(kind='line', marker='o', title=\"Medal Trend Over Years\")\nplt.ylabel(\"Number of Medals\")\nplt.show()\n\n\n# Saving Results to CSV\ndf.to_csv(\"olympics_analysis.csv\", index=False)\nprint(\"\\n Analysis saved to olympics_analysis.csv\")\n",
      "metadata": {
        "trusted": true
      },
      "outputs": [],
      "execution_count": null
    }
  ]
}